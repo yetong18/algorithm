{
 "cells": [
  {
   "cell_type": "markdown",
   "metadata": {},
   "source": [
    "## 93. 复原IP地址\n",
    "    给定一个只包含数字的字符串，复原它并返回所有可能的 IP 地址格式。\n",
    "    输入: \"25525511135\"\n",
    "    输出: [\"255.255.11.135\", \"255.255.111.35\"]"
   ]
  },
  {
   "cell_type": "markdown",
   "metadata": {},
   "source": [
    "### 思路1   \n",
    "    1.首先生成字符串长度4-12可能的拆分排列；\n",
    "    2.根据上组合，试验每个拆分是否在0-255之间；\n",
    "    3.排除0以外，以0开头的拆分，如01；\n",
    "    总结：步骤一花费太多时间"
   ]
  },
  {
   "cell_type": "code",
   "execution_count": 12,
   "metadata": {},
   "outputs": [],
   "source": [
    "class Solution:\n",
    "    def restoreIpAddresses(self, s):\n",
    "        \"\"\"\n",
    "        :type s: str\n",
    "        :rtype: List[str]\n",
    "        \"\"\"\n",
    "        # 生成每个长度的组合集合\n",
    "        coms = dict().fromkeys(range(4,13), []) # 长度组合\n",
    "        for i in (1,2,3):\n",
    "            for j in (1,2,3):\n",
    "                for k in (1,2,3):\n",
    "                    for l in (1,2,3):\n",
    "                        ss = i + j + k + l\n",
    "                        coms[ss] = coms[ss] + [[i,j,k,l]] # 此处用append导致一起改变\n",
    "        \n",
    "        if len(s) < 4 or len(s) >12:\n",
    "            return []\n",
    "        res = []\n",
    "        \n",
    "        for com in coms[len(s)]:\n",
    "            temp = \"\"\n",
    "            this = s\n",
    "            for step in com:\n",
    "                if len(this[:step]) > 1 and this[0] == '0':\n",
    "                    break\n",
    "                elif int(this[:step]) >= 0 and int(this[:step]) <= 255:\n",
    "                    if temp == \"\":\n",
    "                        temp = this[:step]\n",
    "                    else:\n",
    "                        temp = temp + '.' + this[:step]\n",
    "                    this = this[step:]\n",
    "                else:\n",
    "                    break\n",
    "            if this == \"\":\n",
    "                res.append(temp)\n",
    "        return res"
   ]
  },
  {
   "cell_type": "code",
   "execution_count": 9,
   "metadata": {},
   "outputs": [
    {
     "data": {
      "text/plain": [
       "['255.255.11.135', '255.255.111.35']"
      ]
     },
     "execution_count": 9,
     "metadata": {},
     "output_type": "execute_result"
    }
   ],
   "source": [
    "Solution.restoreIpAddresses(1,\"25525511135\")"
   ]
  },
  {
   "cell_type": "code",
   "execution_count": null,
   "metadata": {},
   "outputs": [],
   "source": []
  }
 ],
 "metadata": {
  "kernelspec": {
   "display_name": "Python 3",
   "language": "python",
   "name": "python3"
  },
  "language_info": {
   "codemirror_mode": {
    "name": "ipython",
    "version": 3
   },
   "file_extension": ".py",
   "mimetype": "text/x-python",
   "name": "python",
   "nbconvert_exporter": "python",
   "pygments_lexer": "ipython3",
   "version": "3.6.4"
  }
 },
 "nbformat": 4,
 "nbformat_minor": 2
}
