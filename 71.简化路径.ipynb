{
 "cells": [
  {
   "cell_type": "markdown",
   "metadata": {},
   "source": [
    "## 71. 简化路径\n",
    "    给定一个文档 (Unix-style) 的完全路径，请进行路径简化。\n",
    "    path = \"/home/\", => \"/home\"\n",
    "    path = \"/a/./b/../../c/\", => \"/c\"\n",
    "    path = \"/../, => \"/\"\n",
    "    path = \"/home//foo/\" => \"/home/foo\""
   ]
  },
  {
   "cell_type": "markdown",
   "metadata": {},
   "source": [
    "### 思路\n",
    "    遍历每个字符，有效地址存在数组里；\n",
    "    判断两个/间含义（以及最后一个/到结尾），'..'表示数组最后一位消除，'.'表示不操作，其他有效地址存入数组；\n",
    "    将数组组合为地址；"
   ]
  },
  {
   "cell_type": "code",
   "execution_count": 4,
   "metadata": {},
   "outputs": [],
   "source": [
    "class Solution:\n",
    "    def simplifyPath(self, path):\n",
    "        \"\"\"\n",
    "        :type path: str\n",
    "        :rtype: str\n",
    "        \"\"\"\n",
    "        res = [] # 有效路径记录在数组里，便于前溯\n",
    "        temp = ''\n",
    "        for i in range(len(path)):\n",
    "            # 这里包含两个情况，一是两个/间地址，一是最后一个/到结尾\n",
    "            if (path[i] == \"/\" and temp != \"\") or (i == len(path)-1):\n",
    "                if i == len(path)-1 and path[i] != \"/\":\n",
    "                #如果是最后一个字符\n",
    "                    temp = temp + path[i] \n",
    "                if temp == \"..\":\n",
    "                    res = res[:-1]\n",
    "                elif temp != \".\" and temp != \"\":\n",
    "                    res.append(temp)\n",
    "                temp = ''\n",
    "            elif path[i] != \"/\":\n",
    "                temp = temp + path[i]\n",
    "        #将数组拼成string\n",
    "        if len(res) == 0:\n",
    "            return \"/\"\n",
    "        result = \"\"\n",
    "        for item in res:\n",
    "            result = result + \"/\" + item \n",
    "        return result"
   ]
  },
  {
   "cell_type": "code",
   "execution_count": 5,
   "metadata": {},
   "outputs": [
    {
     "data": {
      "text/plain": [
       "'/c'"
      ]
     },
     "execution_count": 5,
     "metadata": {},
     "output_type": "execute_result"
    }
   ],
   "source": [
    "Solution.simplifyPath(1, \"/a/./b/../../c/\")"
   ]
  },
  {
   "cell_type": "code",
   "execution_count": null,
   "metadata": {},
   "outputs": [],
   "source": []
  }
 ],
 "metadata": {
  "kernelspec": {
   "display_name": "Python 3",
   "language": "python",
   "name": "python3"
  },
  "language_info": {
   "codemirror_mode": {
    "name": "ipython",
    "version": 3
   },
   "file_extension": ".py",
   "mimetype": "text/x-python",
   "name": "python",
   "nbconvert_exporter": "python",
   "pygments_lexer": "ipython3",
   "version": "3.6.4"
  }
 },
 "nbformat": 4,
 "nbformat_minor": 2
}
